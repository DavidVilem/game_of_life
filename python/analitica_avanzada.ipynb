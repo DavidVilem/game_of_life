{
 "cells": [
  {
   "cell_type": "code",
   "execution_count": null,
   "id": "63944088",
   "metadata": {},
   "outputs": [],
   "source": [
    "import pandas as pd\n",
    "import matplotlib.pyplot as plt\n",
    "import seaborn as sns\n",
    "from sklearn.linear_model import LinearRegression\n",
    "from sklearn.cluster import KMeans\n",
    "import numpy as np\n",
    "import os"
   ]
  },
  {
   "cell_type": "code",
   "execution_count": 2,
   "id": "56612620",
   "metadata": {},
   "outputs": [],
   "source": [
    "# Ruta de la carpeta logs, que está un nivel arriba del notebook\n",
    "logs_dir = os.path.join(os.getcwd(), '..', 'logs')   # Sube un nivel y entra a logs\n",
    "logs_dir = os.path.abspath(logs_dir)                 # Convierte a ruta absoluta"
   ]
  },
  {
   "cell_type": "code",
   "execution_count": 3,
   "id": "9df21425",
   "metadata": {},
   "outputs": [
    {
     "name": "stdout",
     "output_type": "stream",
     "text": [
      "Buscando en: c:\\Users\\jdvil\\Documents\\Python\\Practicas\\Juego_Vida\\logs\n",
      "¿Existe 'logs'? -> True\n"
     ]
    }
   ],
   "source": [
    "print(\"Buscando en:\", logs_dir)\n",
    "print(\"¿Existe 'logs'? ->\", os.path.isdir(logs_dir))"
   ]
  },
  {
   "cell_type": "code",
   "execution_count": null,
   "id": "2f062bbc",
   "metadata": {},
   "outputs": [
    {
     "name": "stdout",
     "output_type": "stream",
     "text": [
      "Archivos CSV encontrados: ['civilizaciones_log_2025-06-23_175415.csv']\n",
      "Cargando archivo: civilizaciones_log_2025-06-23_175415.csv\n",
      "   ciclo civilizacion personalidad estrategia  fuerza  tecnologia  religion  \\\n",
      "0      1         Civ1  militarista       hawk      45         0.0       0.0   \n",
      "1      1         Civ2       halcon       dove      45         0.0       0.0   \n",
      "2      1         Civ3  equilibrado       hawk      45         0.0       0.0   \n",
      "3      2         Civ1  militarista       hawk      70         1.2       0.0   \n",
      "4      2         Civ2       halcon       dove      77         0.0       0.0   \n",
      "\n",
      "   militar  complejidad  celdas  plantasTec  iglesias  cuarteles  \n",
      "0      0.0          9.8      30           0         0          0  \n",
      "1      0.0         10.2      30           0         0          0  \n",
      "2      0.0          5.8      30           0         0          0  \n",
      "3      0.0         11.6      45           1         0          0  \n",
      "4      0.0          7.4      51           0         0          0  \n"
     ]
    }
   ],
   "source": [
    "if os.path.isdir(logs_dir):\n",
    "    csv_files = [f for f in os.listdir(logs_dir) if f.endswith('.csv')]\n",
    "    print(\"Archivos CSV encontrados:\", csv_files)\n",
    "    if csv_files:\n",
    "        csv_files.sort(key=lambda f: os.path.getmtime(os.path.join(logs_dir, f)), reverse=True)\n",
    "        csv_path = os.path.join(logs_dir, csv_files[0])\n",
    "        print(\"Cargando archivo:\", csv_files[0])\n",
    "        df = pd.read_csv(csv_path)\n",
    "        print(df.head())\n",
    "    else:\n",
    "        print(\"No hay archivos CSV en la carpeta logs.\")\n",
    "else:\n",
    "    print(\"La carpeta 'logs' no existe en la ubicación esperada.\")"
   ]
  },
  {
   "cell_type": "code",
   "execution_count": null,
   "id": "36ad8afb",
   "metadata": {},
   "outputs": [
    {
     "name": "stdout",
     "output_type": "stream",
     "text": [
      "¡Matriz de correlación generada en kpi_imgs/advanced_correlacion.png!\n"
     ]
    }
   ],
   "source": [
    "# Elige solo las columnas numéricas relevantes para correlación\n",
    "cols_corr = [\n",
    "    'fuerza', 'tecnologia', 'religion', 'militar', 'complejidad',\n",
    "    'celdas', 'plantasTec', 'iglesias', 'cuarteles'\n",
    "]\n",
    "\n",
    "cols_exist = [col for col in cols_corr if col in df.columns]\n",
    "corr = df[cols_exist].corr()\n",
    "\n",
    "# Gráfico de mapa de calor\n",
    "plt.figure(figsize=(9,7))\n",
    "sns.heatmap(corr, annot=True, cmap='coolwarm', linewidths=0.5, fmt='.2f')\n",
    "plt.title('Matriz de correlación entre variables')\n",
    "plt.tight_layout()\n",
    "plt.savefig('kpi_imgs/matriz_correlacion.png')\n",
    "plt.close()\n",
    "\n",
    "print(\"¡Matriz de correlación generada en kpi_imgs/advanced_correlacion.png!\")\n"
   ]
  },
  {
   "cell_type": "code",
   "execution_count": 11,
   "id": "2bbc89d2",
   "metadata": {},
   "outputs": [],
   "source": [
    "# ========= 1. REGRESIÓN LINEAL: FUERZA vs. CELDAS (por civilización) =========\n",
    "plt.figure(figsize=(8,6))\n",
    "for civ in df['civilizacion'].unique():\n",
    "    sub = df[df['civilizacion'] == civ]\n",
    "    X = sub[['celdas']]\n",
    "    y = sub['fuerza']\n",
    "    model = LinearRegression().fit(X, y)\n",
    "    pred = model.predict(X)\n",
    "    plt.scatter(X, y, label=f'{civ}', s=18)\n",
    "    plt.plot(X, pred, '--')\n",
    "plt.title('Regresión Lineal: Fuerza vs Celdas')\n",
    "plt.xlabel('Celdas')\n",
    "plt.ylabel('Fuerza')\n",
    "plt.legend()\n",
    "plt.tight_layout()\n",
    "plt.savefig('kpi_imgs/reg_fuerza_vs_celdas.png')\n",
    "plt.close()"
   ]
  },
  {
   "cell_type": "code",
   "execution_count": 12,
   "id": "a1eb8cc2",
   "metadata": {},
   "outputs": [],
   "source": [
    "# ========= 2. REGRESIÓN LINEAL: COMPLEJIDAD vs. NÚMERO DE EDIFICIOS =========\n",
    "df['total_edificios'] = df['plantasTec'] + df['iglesias'] + df['cuarteles']\n",
    "plt.figure(figsize=(8,6))\n",
    "for civ in df['civilizacion'].unique():\n",
    "    sub = df[df['civilizacion'] == civ]\n",
    "    X = sub[['total_edificios']]\n",
    "    y = sub['complejidad']\n",
    "    model = LinearRegression().fit(X, y)\n",
    "    pred = model.predict(X)\n",
    "    plt.scatter(X, y, label=f'{civ}', s=18)\n",
    "    plt.plot(X, pred, '--')\n",
    "plt.title('Regresión Lineal: Complejidad vs Total de Edificios')\n",
    "plt.xlabel('Total de Edificios')\n",
    "plt.ylabel('Complejidad')\n",
    "plt.legend()\n",
    "plt.tight_layout()\n",
    "plt.savefig('kpi_imgs/reg_complejidad_vs_edificios.png')\n",
    "plt.close()"
   ]
  },
  {
   "cell_type": "code",
   "execution_count": 13,
   "id": "5c9e0cb0",
   "metadata": {},
   "outputs": [],
   "source": [
    "# ========= 3. REGRESIÓN MÚLTIPLE: FUERZA FINAL vs. TODAS LAS MÉTRICAS =========\n",
    "finals = df[df['ciclo'] == df['ciclo'].max()]\n",
    "X = finals[['celdas','tecnologia','religion','militar','complejidad','plantasTec','iglesias','cuarteles']]\n",
    "y = finals['fuerza']\n",
    "model = LinearRegression().fit(X, y)\n",
    "coefs = list(zip(X.columns, model.coef_))\n",
    "\n",
    "# Guarda los coeficientes como imagen\n",
    "fig, ax = plt.subplots(figsize=(7,3))\n",
    "coef_names = [c for c, _ in coefs]\n",
    "coef_vals = [v for _, v in coefs]\n",
    "bars = ax.barh(coef_names, coef_vals, color='deepskyblue')\n",
    "ax.set_xlabel('Peso')\n",
    "ax.set_title('Coeficientes regresión múltiple (fuerza final)')\n",
    "for bar in bars:\n",
    "    width = bar.get_width()\n",
    "    ax.text(width, bar.get_y() + bar.get_height()/2,\n",
    "            f'{width:.3f}', va='center', ha='left', fontsize=10)\n",
    "plt.tight_layout()\n",
    "plt.savefig('kpi_imgs/reg_multiple_fuerza_final.png')\n",
    "plt.close()"
   ]
  },
  {
   "cell_type": "code",
   "execution_count": 15,
   "id": "dec9cf88",
   "metadata": {},
   "outputs": [
    {
     "name": "stderr",
     "output_type": "stream",
     "text": [
      "C:\\Users\\jdvil\\AppData\\Local\\Temp\\ipykernel_10960\\2608859053.py:5: SettingWithCopyWarning: \n",
      "A value is trying to be set on a copy of a slice from a DataFrame.\n",
      "Try using .loc[row_indexer,col_indexer] = value instead\n",
      "\n",
      "See the caveats in the documentation: https://pandas.pydata.org/pandas-docs/stable/user_guide/indexing.html#returning-a-view-versus-a-copy\n",
      "  finals['cluster'] = kmeans.labels_\n"
     ]
    }
   ],
   "source": [
    "# ========= 5. CLUSTERIZACIÓN: K-MEANS POR PATRÓN DE CRECIMIENTO =========\n",
    "# Vamos a agrupar por fuerza y celdas, solo en el ciclo final\n",
    "X_clust = finals[['fuerza', 'celdas']]\n",
    "kmeans = KMeans(n_clusters=2, random_state=0).fit(X_clust)\n",
    "finals['cluster'] = kmeans.labels_\n",
    "plt.figure(figsize=(7,6))\n",
    "colors = ['teal','orange','crimson','mediumorchid','gold','skyblue','lime','brown','pink','gray']\n",
    "for i, c in enumerate(finals['cluster'].unique()):\n",
    "    sub = finals[finals['cluster']==c]\n",
    "    plt.scatter(sub['celdas'], sub['fuerza'], color=colors[i], s=100, label=f'Cluster {c+1}')\n",
    "for idx, row in finals.iterrows():\n",
    "    plt.text(row['celdas'], row['fuerza'], row['civilizacion'], fontsize=10, ha='center', va='bottom', color='white')\n",
    "plt.xlabel('Celdas')\n",
    "plt.ylabel('Fuerza')\n",
    "plt.title('Clusters de civilizaciones por patrón final')\n",
    "plt.legend()\n",
    "plt.tight_layout()\n",
    "plt.savefig('kpi_imgs/clusters_civilizaciones.png')\n",
    "plt.close()"
   ]
  },
  {
   "cell_type": "code",
   "execution_count": 16,
   "id": "834c35c3",
   "metadata": {},
   "outputs": [],
   "source": [
    "# ========= 6. DETECCIÓN DE OUTLIERS: SALTOS ANÓMALOS EN FUERZA Y COMPLEJIDAD =========\n",
    "df['delta_fuerza'] = df.groupby('civilizacion')['fuerza'].diff().fillna(0)\n",
    "df['delta_complejidad'] = df.groupby('civilizacion')['complejidad'].diff().fillna(0)\n",
    "plt.figure(figsize=(10,5))\n",
    "for civ in df['civilizacion'].unique():\n",
    "    sub = df[df['civilizacion']==civ]\n",
    "    plt.plot(sub['ciclo'], sub['delta_fuerza'], label=f'{civ} ΔFuerza')\n",
    "    plt.plot(sub['ciclo'], sub['delta_complejidad'], '--', label=f'{civ} ΔComplejidad')\n",
    "plt.title(\"Saltos anómalos (fuerza y complejidad por ciclo)\")\n",
    "plt.xlabel(\"Ciclo\")\n",
    "plt.ylabel(\"Diferencia respecto al ciclo anterior\")\n",
    "plt.legend()\n",
    "plt.tight_layout()\n",
    "plt.savefig('kpi_imgs/outliers_saltos_fuerza_complejidad.png')\n",
    "plt.close()"
   ]
  },
  {
   "cell_type": "code",
   "execution_count": 17,
   "id": "43ffc1b1",
   "metadata": {},
   "outputs": [],
   "source": [
    "# ========= 7. ANÁLISIS DE TENDENCIA TEMPORAL: ACELERACIÓN/DECELERACIÓN EN CRECIMIENTO =========\n",
    "plt.figure(figsize=(10,5))\n",
    "for civ in df['civilizacion'].unique():\n",
    "    sub = df[df['civilizacion']==civ]\n",
    "    # 2da derivada: aceleración (aproximada)\n",
    "    aceleracion = np.gradient(np.gradient(sub['fuerza']))\n",
    "    plt.plot(sub['ciclo'], aceleracion, label=civ)\n",
    "plt.title('Aceleración/deceleración del crecimiento de fuerza')\n",
    "plt.xlabel('Ciclo')\n",
    "plt.ylabel('Aceleración')\n",
    "plt.legend()\n",
    "plt.tight_layout()\n",
    "plt.savefig('kpi_imgs/tendencia_aceleracion_fuerza.png')\n",
    "plt.close()"
   ]
  },
  {
   "cell_type": "code",
   "execution_count": null,
   "id": "6d18cf06",
   "metadata": {},
   "outputs": [],
   "source": []
  }
 ],
 "metadata": {
  "kernelspec": {
   "display_name": "Python 3",
   "language": "python",
   "name": "python3"
  },
  "language_info": {
   "codemirror_mode": {
    "name": "ipython",
    "version": 3
   },
   "file_extension": ".py",
   "mimetype": "text/x-python",
   "name": "python",
   "nbconvert_exporter": "python",
   "pygments_lexer": "ipython3",
   "version": "3.13.0"
  }
 },
 "nbformat": 4,
 "nbformat_minor": 5
}
