{
 "cells": [
  {
   "cell_type": "code",
   "execution_count": 2,
   "id": "0203cd21",
   "metadata": {},
   "outputs": [],
   "source": [
    "import pandas as pd\n",
    "import matplotlib.pyplot as plt\n",
    "import os"
   ]
  },
  {
   "cell_type": "code",
   "execution_count": 11,
   "id": "e347587d",
   "metadata": {},
   "outputs": [],
   "source": [
    "# Ruta de la carpeta logs, que está un nivel arriba del notebook\n",
    "logs_dir = os.path.join(os.getcwd(), '..', 'logs')   # Sube un nivel y entra a logs\n",
    "logs_dir = os.path.abspath(logs_dir)                 # Convierte a ruta absoluta"
   ]
  },
  {
   "cell_type": "code",
   "execution_count": null,
   "id": "e9dceeb1",
   "metadata": {},
   "outputs": [
    {
     "name": "stdout",
     "output_type": "stream",
     "text": [
      "Buscando en: c:\\Users\\jdvil\\Documents\\Python\\Practicas\\Juego_Vida\\logs\n",
      "¿Existe 'logs'? -> True\n"
     ]
    }
   ],
   "source": [
    "print(\"Buscando en:\", logs_dir)\n",
    "print(\"¿Existe 'logs'? ->\", os.path.isdir(logs_dir))"
   ]
  },
  {
   "cell_type": "code",
   "execution_count": null,
   "id": "c6d43b71",
   "metadata": {},
   "outputs": [
    {
     "name": "stdout",
     "output_type": "stream",
     "text": [
      "Archivos CSV encontrados: ['civilizaciones_log_2025-06-23_175415.csv']\n",
      "Cargando archivo: civilizaciones_log_2025-06-23_175415.csv\n",
      "   ciclo civilizacion personalidad estrategia  fuerza  tecnologia  religion  \\\n",
      "0      1         Civ1  militarista       hawk      45         0.0       0.0   \n",
      "1      1         Civ2       halcon       dove      45         0.0       0.0   \n",
      "2      1         Civ3  equilibrado       hawk      45         0.0       0.0   \n",
      "3      2         Civ1  militarista       hawk      70         1.2       0.0   \n",
      "4      2         Civ2       halcon       dove      77         0.0       0.0   \n",
      "\n",
      "   militar  complejidad  celdas  plantasTec  iglesias  cuarteles  \n",
      "0      0.0          9.8      30           0         0          0  \n",
      "1      0.0         10.2      30           0         0          0  \n",
      "2      0.0          5.8      30           0         0          0  \n",
      "3      0.0         11.6      45           1         0          0  \n",
      "4      0.0          7.4      51           0         0          0  \n"
     ]
    }
   ],
   "source": [
    "if os.path.isdir(logs_dir):\n",
    "    csv_files = [f for f in os.listdir(logs_dir) if f.endswith('.csv')]\n",
    "    print(\"Archivos CSV encontrados:\", csv_files)\n",
    "    if csv_files:\n",
    "        csv_files.sort(key=lambda f: os.path.getmtime(os.path.join(logs_dir, f)), reverse=True)\n",
    "        csv_path = os.path.join(logs_dir, csv_files[0])\n",
    "        print(\"Cargando archivo:\", csv_files[0])\n",
    "        df = pd.read_csv(csv_path)\n",
    "        print(df.head())\n",
    "    else:\n",
    "        print(\"No hay archivos CSV en la carpeta logs.\")\n",
    "else:\n",
    "    print(\"La carpeta 'logs' no existe en la ubicación esperada.\")"
   ]
  },
  {
   "cell_type": "code",
   "execution_count": 14,
   "id": "ea3a4c85",
   "metadata": {},
   "outputs": [
    {
     "data": {
      "text/html": [
       "<div>\n",
       "<style scoped>\n",
       "    .dataframe tbody tr th:only-of-type {\n",
       "        vertical-align: middle;\n",
       "    }\n",
       "\n",
       "    .dataframe tbody tr th {\n",
       "        vertical-align: top;\n",
       "    }\n",
       "\n",
       "    .dataframe thead th {\n",
       "        text-align: right;\n",
       "    }\n",
       "</style>\n",
       "<table border=\"1\" class=\"dataframe\">\n",
       "  <thead>\n",
       "    <tr style=\"text-align: right;\">\n",
       "      <th></th>\n",
       "      <th>ciclo</th>\n",
       "      <th>civilizacion</th>\n",
       "      <th>personalidad</th>\n",
       "      <th>estrategia</th>\n",
       "      <th>fuerza</th>\n",
       "      <th>tecnologia</th>\n",
       "      <th>religion</th>\n",
       "      <th>militar</th>\n",
       "      <th>complejidad</th>\n",
       "      <th>celdas</th>\n",
       "      <th>plantasTec</th>\n",
       "      <th>iglesias</th>\n",
       "      <th>cuarteles</th>\n",
       "    </tr>\n",
       "  </thead>\n",
       "  <tbody>\n",
       "    <tr>\n",
       "      <th>0</th>\n",
       "      <td>1</td>\n",
       "      <td>Civ1</td>\n",
       "      <td>militarista</td>\n",
       "      <td>hawk</td>\n",
       "      <td>45</td>\n",
       "      <td>0.0</td>\n",
       "      <td>0.0</td>\n",
       "      <td>0.0</td>\n",
       "      <td>9.8</td>\n",
       "      <td>30</td>\n",
       "      <td>0</td>\n",
       "      <td>0</td>\n",
       "      <td>0</td>\n",
       "    </tr>\n",
       "    <tr>\n",
       "      <th>1</th>\n",
       "      <td>1</td>\n",
       "      <td>Civ2</td>\n",
       "      <td>halcon</td>\n",
       "      <td>dove</td>\n",
       "      <td>45</td>\n",
       "      <td>0.0</td>\n",
       "      <td>0.0</td>\n",
       "      <td>0.0</td>\n",
       "      <td>10.2</td>\n",
       "      <td>30</td>\n",
       "      <td>0</td>\n",
       "      <td>0</td>\n",
       "      <td>0</td>\n",
       "    </tr>\n",
       "    <tr>\n",
       "      <th>2</th>\n",
       "      <td>1</td>\n",
       "      <td>Civ3</td>\n",
       "      <td>equilibrado</td>\n",
       "      <td>hawk</td>\n",
       "      <td>45</td>\n",
       "      <td>0.0</td>\n",
       "      <td>0.0</td>\n",
       "      <td>0.0</td>\n",
       "      <td>5.8</td>\n",
       "      <td>30</td>\n",
       "      <td>0</td>\n",
       "      <td>0</td>\n",
       "      <td>0</td>\n",
       "    </tr>\n",
       "    <tr>\n",
       "      <th>3</th>\n",
       "      <td>2</td>\n",
       "      <td>Civ1</td>\n",
       "      <td>militarista</td>\n",
       "      <td>hawk</td>\n",
       "      <td>70</td>\n",
       "      <td>1.2</td>\n",
       "      <td>0.0</td>\n",
       "      <td>0.0</td>\n",
       "      <td>11.6</td>\n",
       "      <td>45</td>\n",
       "      <td>1</td>\n",
       "      <td>0</td>\n",
       "      <td>0</td>\n",
       "    </tr>\n",
       "    <tr>\n",
       "      <th>4</th>\n",
       "      <td>2</td>\n",
       "      <td>Civ2</td>\n",
       "      <td>halcon</td>\n",
       "      <td>dove</td>\n",
       "      <td>77</td>\n",
       "      <td>0.0</td>\n",
       "      <td>0.0</td>\n",
       "      <td>0.0</td>\n",
       "      <td>7.4</td>\n",
       "      <td>51</td>\n",
       "      <td>0</td>\n",
       "      <td>0</td>\n",
       "      <td>0</td>\n",
       "    </tr>\n",
       "  </tbody>\n",
       "</table>\n",
       "</div>"
      ],
      "text/plain": [
       "   ciclo civilizacion personalidad estrategia  fuerza  tecnologia  religion  \\\n",
       "0      1         Civ1  militarista       hawk      45         0.0       0.0   \n",
       "1      1         Civ2       halcon       dove      45         0.0       0.0   \n",
       "2      1         Civ3  equilibrado       hawk      45         0.0       0.0   \n",
       "3      2         Civ1  militarista       hawk      70         1.2       0.0   \n",
       "4      2         Civ2       halcon       dove      77         0.0       0.0   \n",
       "\n",
       "   militar  complejidad  celdas  plantasTec  iglesias  cuarteles  \n",
       "0      0.0          9.8      30           0         0          0  \n",
       "1      0.0         10.2      30           0         0          0  \n",
       "2      0.0          5.8      30           0         0          0  \n",
       "3      0.0         11.6      45           1         0          0  \n",
       "4      0.0          7.4      51           0         0          0  "
      ]
     },
     "execution_count": 14,
     "metadata": {},
     "output_type": "execute_result"
    }
   ],
   "source": [
    "df.head()"
   ]
  },
  {
   "cell_type": "code",
   "execution_count": 15,
   "id": "30c55ce6",
   "metadata": {},
   "outputs": [],
   "source": [
    "# --- Crear carpeta para guardar imágenes ---\n",
    "os.makedirs('kpi_imgs', exist_ok=True)\n",
    "img_paths = []"
   ]
  },
  {
   "cell_type": "code",
   "execution_count": null,
   "id": "7219451b",
   "metadata": {},
   "outputs": [
    {
     "name": "stderr",
     "output_type": "stream",
     "text": [
      "C:\\Users\\jdvil\\AppData\\Local\\Temp\\ipykernel_9348\\3849198276.py:26: SettingWithCopyWarning: \n",
      "A value is trying to be set on a copy of a slice from a DataFrame.\n",
      "Try using .loc[row_indexer,col_indexer] = value instead\n",
      "\n",
      "See the caveats in the documentation: https://pandas.pydata.org/pandas-docs/stable/user_guide/indexing.html#returning-a-view-versus-a-copy\n",
      "  final['fuerza_x_celda'] = final['fuerza'] / final['celdas']\n"
     ]
    },
    {
     "data": {
      "text/plain": [
       "<Figure size 640x480 with 0 Axes>"
      ]
     },
     "metadata": {},
     "output_type": "display_data"
    },
    {
     "data": {
      "text/plain": [
       "<Figure size 640x480 with 0 Axes>"
      ]
     },
     "metadata": {},
     "output_type": "display_data"
    },
    {
     "data": {
      "text/plain": [
       "<Figure size 640x480 with 0 Axes>"
      ]
     },
     "metadata": {},
     "output_type": "display_data"
    }
   ],
   "source": [
    "# 1. Crecimiento territorial (KPI 1)\n",
    "plt.figure()\n",
    "df_pivot = df.pivot(index='ciclo', columns='civilizacion', values='celdas')\n",
    "df_pivot.plot(figsize=(8,5), title=\"Crecimiento territorial (celdas ocupadas)\", ylabel=\"Celdas\")\n",
    "plt.xlabel(\"Ciclo\")\n",
    "plt.tight_layout()\n",
    "img1 = 'kpi_imgs/kpi1_crecimiento_celdas.png'\n",
    "plt.savefig(img1)\n",
    "img_paths.append(img1)\n",
    "plt.close()"
   ]
  },
  {
   "cell_type": "code",
   "execution_count": null,
   "id": "206a2e48",
   "metadata": {},
   "outputs": [],
   "source": [
    "# 2. Especialización en edificios (KPI 2)\n",
    "plt.figure()\n",
    "final = df[df['ciclo'] == df['ciclo'].max()]\n",
    "final.set_index('civilizacion')[['plantasTec','iglesias','cuarteles']].plot(kind='bar', stacked=True, figsize=(8,5))\n",
    "plt.title(\"Edificios construidos por civilización (final)\")\n",
    "plt.ylabel(\"Cantidad\")\n",
    "plt.tight_layout()\n",
    "img2 = 'kpi_imgs/kpi2_edificios.png'\n",
    "plt.savefig(img2)\n",
    "img_paths.append(img2)\n",
    "plt.close()\n"
   ]
  },
  {
   "cell_type": "code",
   "execution_count": null,
   "id": "654ec0a8",
   "metadata": {},
   "outputs": [],
   "source": [
    "\n",
    "# 3. Eficiencia: Fuerza por celda (KPI 3)\n",
    "plt.figure()\n",
    "final['fuerza_x_celda'] = final['fuerza'] / final['celdas']\n",
    "final.set_index('civilizacion')['fuerza_x_celda'].plot(kind='bar', color='teal')\n",
    "plt.title(\"Eficiencia: Fuerza por celda (final)\")\n",
    "plt.ylabel(\"Fuerza/celda\")\n",
    "plt.tight_layout()\n",
    "img3 = 'kpi_imgs/kpi3_fuerza_x_celda.png'\n",
    "plt.savefig(img3)\n",
    "img_paths.append(img3)\n",
    "plt.close()\n"
   ]
  },
  {
   "cell_type": "code",
   "execution_count": null,
   "id": "20479882",
   "metadata": {},
   "outputs": [],
   "source": [
    "\n",
    "# 4. Estrategia dominante por personalidad (KPI 4)\n",
    "plt.figure()\n",
    "pers = df.groupby('personalidad')['fuerza'].max().sort_values()\n",
    "pers.plot(kind='barh', color='purple')\n",
    "plt.title(\"Fuerza máxima por personalidad\")\n",
    "plt.xlabel(\"Fuerza máxima\")\n",
    "plt.tight_layout()\n",
    "img4 = 'kpi_imgs/kpi4_fuerza_personalidad.png'\n",
    "img_paths.append(img4)\n",
    "plt.savefig(img4)\n",
    "plt.close()\n"
   ]
  },
  {
   "cell_type": "code",
   "execution_count": null,
   "id": "d664ed80",
   "metadata": {},
   "outputs": [],
   "source": [
    "\n",
    "# 5. Eventos clave: saltos grandes de fuerza (KPI 5)\n",
    "plt.figure()\n",
    "for civ in df['civilizacion'].unique():\n",
    "    fuerza = df[df['civilizacion']==civ][['ciclo','fuerza']]\n",
    "    fuerza['delta'] = fuerza['fuerza'].diff().fillna(0)\n",
    "    plt.plot(fuerza['ciclo'], fuerza['delta'], label=civ)\n",
    "plt.title(\"Saltos de fuerza por ciclo (eventos clave)\")\n",
    "plt.xlabel(\"Ciclo\")\n",
    "plt.ylabel(\"Cambio en fuerza respecto al ciclo anterior\")\n",
    "plt.legend()\n",
    "plt.tight_layout()\n",
    "img5 = 'kpi_imgs/kpi5_eventos_clave.png'\n",
    "plt.savefig(img5)\n",
    "img_paths.append(img5)\n",
    "plt.close()\n"
   ]
  },
  {
   "cell_type": "code",
   "execution_count": null,
   "id": "a36cc231",
   "metadata": {},
   "outputs": [],
   "source": [
    "\n",
    "# 6. Comparación de personalidades (KPI 6)\n",
    "plt.figure()\n",
    "pers_prom = df.groupby('personalidad').agg({\n",
    "    'fuerza':'mean', 'celdas':'mean', 'complejidad':'mean'\n",
    "}).sort_values('fuerza', ascending=False)\n",
    "pers_prom[['fuerza','celdas','complejidad']].plot(kind='bar', figsize=(9,5))\n",
    "plt.title(\"Promedio de fuerza, celdas y complejidad por personalidad\")\n",
    "plt.tight_layout()\n",
    "img6 = 'kpi_imgs/kpi6_promedio_personalidad.png'\n",
    "plt.savefig(img6)\n",
    "img_paths.append(img6)\n",
    "plt.close()\n"
   ]
  },
  {
   "cell_type": "code",
   "execution_count": null,
   "id": "97d3b1a5",
   "metadata": {},
   "outputs": [],
   "source": [
    "\n",
    "# 7. Análisis temporal: evolución de fuerza (KPI 7)\n",
    "plt.figure()\n",
    "for civ in df['civilizacion'].unique():\n",
    "    plt.plot(df[df['civilizacion']==civ]['ciclo'], df[df['civilizacion']==civ]['fuerza'], label=civ)\n",
    "plt.title(\"Evolución de fuerza por ciclo\")\n",
    "plt.xlabel(\"Ciclo\")\n",
    "plt.ylabel(\"Fuerza\")\n",
    "plt.legend()\n",
    "plt.tight_layout()\n",
    "img7 = 'kpi_imgs/kpi7_evolucion_fuerza.png'\n",
    "plt.savefig(img7)\n",
    "img_paths.append(img7)\n",
    "plt.close()"
   ]
  }
 ],
 "metadata": {
  "kernelspec": {
   "display_name": "Python 3",
   "language": "python",
   "name": "python3"
  },
  "language_info": {
   "codemirror_mode": {
    "name": "ipython",
    "version": 3
   },
   "file_extension": ".py",
   "mimetype": "text/x-python",
   "name": "python",
   "nbconvert_exporter": "python",
   "pygments_lexer": "ipython3",
   "version": "3.13.0"
  }
 },
 "nbformat": 4,
 "nbformat_minor": 5
}
